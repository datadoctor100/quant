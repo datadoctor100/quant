{
  "nbformat": 4,
  "nbformat_minor": 0,
  "metadata": {
    "colab": {
      "name": "stock_pred.ipynb",
      "private_outputs": true,
      "provenance": [],
      "collapsed_sections": []
    },
    "kernelspec": {
      "name": "python3",
      "display_name": "Python 3"
    },
    "language_info": {
      "name": "python"
    }
  },
  "cells": [
    {
      "cell_type": "code",
      "metadata": {
        "id": "fWjWXkHVgcEn"
      },
      "source": [
        "# Import libraries\n",
        "import matplotlib.pyplot as plt\n",
        "%matplotlib inline\n",
        "%config InlineBackend.figure_format = 'retina'\n",
        "import numpy as np\n",
        "import pandas_datareader as pdr\n",
        "plt.style.use('fivethirtyeight')\n",
        "import warnings\n",
        "warnings.filterwarnings('ignore')\n",
        "import tqdm\n",
        "import pandas as pd\n",
        "import random\n",
        "from fbprophet import Prophet"
      ],
      "execution_count": null,
      "outputs": []
    },
    {
      "cell_type": "code",
      "metadata": {
        "id": "IMDlgc5Fgr4p"
      },
      "source": [
        "# Function to get pricing\n",
        "def grab_dat(ticker):\n",
        "    \n",
        "    dat = pdr.get_data_yahoo(ticker, '2000-01-01', pd.to_datetime('today', format = '%Y-%m-%d')).rename({'Adj Close': 'price'}, axis = 1)[['price']]\n",
        "        \n",
        "    dat['ticker'] = ticker\n",
        "\n",
        "    # Returns\n",
        "    dat['daily_pct_change'] = dat['price'] / dat['price'].shift(1) - 1\n",
        "    dat['daily_pct_change'].fillna(0, inplace = True)\n",
        "    dat['cum_daily_return'] = (1 + dat['daily_pct_change']).cumprod()\n",
        "        \n",
        "    return dat"
      ],
      "execution_count": null,
      "outputs": []
    },
    {
      "cell_type": "code",
      "metadata": {
        "id": "CzWi_QoxgDia"
      },
      "source": [
        "# Get tickers\n",
        "table = pd.read_html('https://en.wikipedia.org/wiki/List_of_S%26P_500_companies')\n",
        "tickers = table[0]\n",
        "\n",
        "tickers.groupby(['GICS Sector', 'GICS Sub-Industry']).size()\n",
        "tickers['GICS Sector'].value_counts()\n",
        "\n",
        "tickers1 = {}\n",
        "\n",
        "for nm, grp in tickers.groupby('GICS Sector'):\n",
        "    \n",
        "    tickers1[nm] = [i for i in grp['Symbol'].unique()]"
      ],
      "execution_count": null,
      "outputs": []
    },
    {
      "cell_type": "code",
      "metadata": {
        "id": "LDVGf6Y8gx03"
      },
      "source": [
        "ticker = random.choice(tickers['Symbol'].unique())\n",
        "print(f'Stock selected for evaluation: {ticker}')"
      ],
      "execution_count": null,
      "outputs": []
    },
    {
      "cell_type": "code",
      "metadata": {
        "id": "9k_Qt4X6g9qa"
      },
      "source": [
        "df = grab_dat(ticker)"
      ],
      "execution_count": null,
      "outputs": []
    },
    {
      "cell_type": "code",
      "metadata": {
        "id": "er2PgdMmhF6g"
      },
      "source": [
        "df.tail()"
      ],
      "execution_count": null,
      "outputs": []
    },
    {
      "cell_type": "code",
      "metadata": {
        "id": "Vyb4pJ3CirIx"
      },
      "source": [
        "df['short'] = df['price'].rolling(30).mean()\n",
        "df['long'] = df['price'].rolling(90).mean()"
      ],
      "execution_count": null,
      "outputs": []
    },
    {
      "cell_type": "code",
      "metadata": {
        "id": "RfOFxKQbhZo7"
      },
      "source": [
        "# Separate data\n",
        "training_data = df['2018':]\n",
        "validation_data = df[:'2018']"
      ],
      "execution_count": null,
      "outputs": []
    },
    {
      "cell_type": "code",
      "metadata": {
        "id": "-wRFJh7Zhsku"
      },
      "source": [
        "fig, ax = plt.subplots(figsize = (25, 10))\n",
        "ax.plot(training_data['price'], label = 'training', lw = 1)\n",
        "ax.plot(validation_data['price'], label = 'vailation', lw = 1)\n",
        "ax.plot(df['short'], label = '30-day SMA', lw = .5)\n",
        "ax.plot(df['long'], label = '90-day SMA', lw = .5)\n",
        "plt.title(f'Price and Data Split for {ticker}', fontsize = 12)\n",
        "plt.xlabel('Date', fontsize = 12)\n",
        "plt.ylabel('Price ($)', fontsize = 12)\n",
        "fig.legend(fontsize = 12)\n",
        "fig.tight_layout()"
      ],
      "execution_count": null,
      "outputs": []
    },
    {
      "cell_type": "code",
      "metadata": {
        "id": "NC3-vAUTk3qv"
      },
      "source": [
        "# Backtest actual data\n",
        "validation_data['signal'] = 0\n",
        "validation_data['signal'][30:] = np.where(validation_data['short'][30:] > validation_data['long'][30:], 1.0, 0.0)   \n",
        "validation_data['positions'] = validation_data['signal'].diff()\n",
        "\n",
        "positions = pd.DataFrame(index = validation_data.index).fillna(0.0)\n",
        "positions[nm] = 1000 * validation_data['signal'] \n",
        "\n",
        "port = positions.multiply(validation_data['price'], axis = 0)\n",
        "pos_diff = positions.diff()\n",
        "\n",
        "# Calculate totals\n",
        "port['holdings'] = (positions.multiply(validation_data['price'], axis = 0)).sum(axis = 1)\n",
        "port['cash'] = 10000 - (pos_diff.multiply(validation_data['price'], axis = 0)).sum(axis = 1).cumsum()   \n",
        "port['total'] = port['cash'] + port['holdings']\n",
        "port['returns'] = port['total'].pct_change() "
      ],
      "execution_count": null,
      "outputs": []
    },
    {
      "cell_type": "code",
      "metadata": {
        "id": "TAD4h4QRhoT2"
      },
      "source": [
        "# Initialize model\n",
        "mod = Prophet()\n",
        "mod.fit(validation_data.reset_index().rename({'Date': 'ds', 'price': 'y'}, axis = 1))\n",
        "\n",
        "fut = mod.make_future_dataframe(periods = 36)\n",
        "fcst = mod.predict(fut)"
      ],
      "execution_count": null,
      "outputs": []
    },
    {
      "cell_type": "code",
      "metadata": {
        "id": "XCwEamwDiWH8"
      },
      "source": [
        "# Backtest actual data\n",
        "validation_data['signal'] = 0\n",
        "validation_data['signal'][30:] = np.where(validation_data['short'][30:] > validation_data['long'][30:], 1.0, 0.0)   \n",
        "validation_data['positions'] = validation_data['signal'].diff()\n",
        "\n",
        "positions = pd.DataFrame(index = validation_data.index).fillna(0.0)\n",
        "positions[ticker] = 1000 * validation_data['signal'] \n",
        "\n",
        "port = positions.multiply(validation_data['price'], axis = 0)\n",
        "pos_diff = positions.diff()\n",
        "\n",
        "# Calculate totals\n",
        "port['holdings'] = (positions.multiply(validation_data['price'], axis = 0)).sum(axis = 1)\n",
        "port['cash'] = 10000 - (pos_diff.multiply(validation_data['price'], axis = 0)).sum(axis = 1).cumsum()   \n",
        "port['total'] = port['cash'] + port['holdings']\n",
        "port['returns'] = port['total'].pct_change() "
      ],
      "execution_count": null,
      "outputs": []
    },
    {
      "cell_type": "code",
      "metadata": {
        "id": "zjHLtJ1tmqn1"
      },
      "source": [
        "port.tail()"
      ],
      "execution_count": null,
      "outputs": []
    },
    {
      "cell_type": "code",
      "metadata": {
        "id": "YLrYB0L0lJ9I"
      },
      "source": [
        "# Backtest predicted data\n",
        "fcst['short'] = fcst['yhat'].rolling(30).mean()\n",
        "fcst['long'] = fcst['yhat'].rolling(90).mean()\n",
        "\n",
        "fcst.index = pd.DatetimeIndex(fcst['ds'])\n",
        "\n",
        "# Backtest actual data\n",
        "fcst['signal'] = 0\n",
        "fcst['signal'][30:] = np.where(fcst['short'][30:] > fcst['long'][30:], 1.0, 0.0)   \n",
        "fcst['positions'] = fcst['signal'].diff()\n",
        "\n",
        "pred_positions = pd.DataFrame(index = validation_data.index).fillna(0.0)\n",
        "pred_positions[ticker] = 1000 * fcst['signal'] \n",
        "\n",
        "predport = pred_positions.multiply(validation_data['price'], axis = 0)\n",
        "pred_pos_diff = positions.diff()\n",
        "\n",
        "# Calculate totals\n",
        "predport['holdings'] = (predport.multiply(validation_data['price'], axis = 0)).sum(axis = 1)\n",
        "predport['cash'] = 10000 - (pred_pos_diff.multiply(validation_data['price'], axis = 0)).sum(axis = 1).cumsum()   \n",
        "predport['total'] = predport['cash'] + predport['holdings']\n",
        "predport['returns'] = predport['total'].pct_change() "
      ],
      "execution_count": null,
      "outputs": []
    },
    {
      "cell_type": "code",
      "metadata": {
        "id": "XsEXtFKTpxUB"
      },
      "source": [
        "predport.tail()"
      ],
      "execution_count": null,
      "outputs": []
    },
    {
      "cell_type": "code",
      "metadata": {
        "id": "1-IgRIqCpy9J"
      },
      "source": [
        "fig, ax = plt.subplots(figsize = (25, 10))\n",
        "ax.plot(port['total'], label = 'actual', lw = 1)\n",
        "ax.plot(predport['total'], label = 'predicted', lw = 1)\n",
        "plt.title(f'Performance 2018-2021 for {ticker}', fontsize = 12)\n",
        "plt.xlabel('Date', fontsize = 12)\n",
        "plt.ylabel('Total ($)', fontsize = 12)\n",
        "fig.legend(fontsize = 12)\n",
        "fig.tight_layout()"
      ],
      "execution_count": null,
      "outputs": []
    }
  ]
}